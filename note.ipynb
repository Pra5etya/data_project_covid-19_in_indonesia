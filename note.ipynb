version https://git-lfs.github.com/spec/v1
oid sha256:29690d97d4b9bfae5b8679ad51b9d219bab76c36774854bba23c5aa98df0b7f9
size 11167
