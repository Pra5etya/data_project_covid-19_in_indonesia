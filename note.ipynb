version https://git-lfs.github.com/spec/v1
oid sha256:bb08edb1b8f07c535824964609de0d29eb8f0ae6eafd31c5aacd1c7db2691fa2
size 11139
