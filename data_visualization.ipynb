version https://git-lfs.github.com/spec/v1
oid sha256:998ff14c54d76a51eeccc329db43a35129eb62a86a7f7e3bdff3e6203fc25f6f
size 18642192
